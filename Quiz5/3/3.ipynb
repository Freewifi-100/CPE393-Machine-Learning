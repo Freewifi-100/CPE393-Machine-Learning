{
 "cells": [
  {
   "cell_type": "markdown",
   "metadata": {},
   "source": [
    "### 3. [2 hrs.] Use the data provided in the shared file gasoline_use.txt to:"
   ]
  },
  {
   "cell_type": "markdown",
   "metadata": {},
   "source": [
    "- I,  the index;\n",
    "- A0, 1; - used for intercept purposes. Can be ignored if fitting also finds intercept. \n",
    "- A1, the gasoline ta- A2, the per capita income ($);\n",
    "- A2, the per capita income ($);\n",
    "- A3, the number of miles of paved highway (miles);\n",
    "- A4, the proportion of drivers (%);\n",
    "- B,  the consumption of gasoline (gallons)."
   ]
  },
  {
   "cell_type": "code",
   "execution_count": 49,
   "metadata": {},
   "outputs": [],
   "source": [
    "import pandas as pd\n",
    "import numpy as np\n",
    "import matplotlib.pyplot as plt\n",
    "import seaborn as sns"
   ]
  },
  {
   "cell_type": "code",
   "execution_count": 50,
   "metadata": {},
   "outputs": [
    {
     "name": "stdout",
     "output_type": "stream",
     "text": [
      "(48, 7)\n"
     ]
    },
    {
     "data": {
      "text/html": [
       "<div>\n",
       "<style scoped>\n",
       "    .dataframe tbody tr th:only-of-type {\n",
       "        vertical-align: middle;\n",
       "    }\n",
       "\n",
       "    .dataframe tbody tr th {\n",
       "        vertical-align: top;\n",
       "    }\n",
       "\n",
       "    .dataframe thead th {\n",
       "        text-align: right;\n",
       "    }\n",
       "</style>\n",
       "<table border=\"1\" class=\"dataframe\">\n",
       "  <thead>\n",
       "    <tr style=\"text-align: right;\">\n",
       "      <th></th>\n",
       "      <th>Index</th>\n",
       "      <th>One</th>\n",
       "      <th>Gasolin tax (cents per gallon)</th>\n",
       "      <th>Average income (dollars)</th>\n",
       "      <th>Paved Highways (miles)</th>\n",
       "      <th>Proportion of population with driver's licenses</th>\n",
       "      <th>Consumption of gasoline (millions of gallons)</th>\n",
       "    </tr>\n",
       "  </thead>\n",
       "  <tbody>\n",
       "    <tr>\n",
       "      <th>0</th>\n",
       "      <td>1</td>\n",
       "      <td>1</td>\n",
       "      <td>9.00</td>\n",
       "      <td>3571</td>\n",
       "      <td>1976</td>\n",
       "      <td>0.5250</td>\n",
       "      <td>541</td>\n",
       "    </tr>\n",
       "    <tr>\n",
       "      <th>1</th>\n",
       "      <td>2</td>\n",
       "      <td>1</td>\n",
       "      <td>9.00</td>\n",
       "      <td>4092</td>\n",
       "      <td>1250</td>\n",
       "      <td>0.5720</td>\n",
       "      <td>524</td>\n",
       "    </tr>\n",
       "    <tr>\n",
       "      <th>2</th>\n",
       "      <td>3</td>\n",
       "      <td>1</td>\n",
       "      <td>9.00</td>\n",
       "      <td>3865</td>\n",
       "      <td>1586</td>\n",
       "      <td>0.5800</td>\n",
       "      <td>561</td>\n",
       "    </tr>\n",
       "    <tr>\n",
       "      <th>3</th>\n",
       "      <td>4</td>\n",
       "      <td>1</td>\n",
       "      <td>7.50</td>\n",
       "      <td>4870</td>\n",
       "      <td>2351</td>\n",
       "      <td>0.5290</td>\n",
       "      <td>414</td>\n",
       "    </tr>\n",
       "    <tr>\n",
       "      <th>4</th>\n",
       "      <td>5</td>\n",
       "      <td>1</td>\n",
       "      <td>8.00</td>\n",
       "      <td>4399</td>\n",
       "      <td>431</td>\n",
       "      <td>0.5440</td>\n",
       "      <td>410</td>\n",
       "    </tr>\n",
       "  </tbody>\n",
       "</table>\n",
       "</div>"
      ],
      "text/plain": [
       "  Index One Gasolin tax (cents per gallon) Average income (dollars)  \\\n",
       "0     1   1                           9.00                     3571   \n",
       "1     2   1                           9.00                     4092   \n",
       "2     3   1                           9.00                     3865   \n",
       "3     4   1                           7.50                     4870   \n",
       "4     5   1                           8.00                     4399   \n",
       "\n",
       "  Paved Highways (miles) Proportion of population with driver's licenses  \\\n",
       "0                   1976                                          0.5250   \n",
       "1                   1250                                          0.5720   \n",
       "2                   1586                                          0.5800   \n",
       "3                   2351                                          0.5290   \n",
       "4                    431                                          0.5440   \n",
       "\n",
       "  Consumption of gasoline (millions of gallons)  \n",
       "0                                           541  \n",
       "1                                           524  \n",
       "2                                           561  \n",
       "3                                           414  \n",
       "4                                           410  "
      ]
     },
     "execution_count": 50,
     "metadata": {},
     "output_type": "execute_result"
    }
   ],
   "source": [
    "with open('gasoline_use.txt', 'r') as f:\n",
    "    lines = f.readlines()[36:]\n",
    "    #split first line by , and next lines by space\n",
    "    lines = [line.split(',') if i == 0 else line.split() for i, line in enumerate(lines)]\n",
    "\n",
    "#convert to dataframe\n",
    "df = pd.DataFrame(lines[1:], columns=lines[0])\n",
    "# Consumption of gasoline (millions of gallons)\\n to Consumption of gasoline (millions of gallons)\n",
    "df.columns = [col.strip() for col in df.columns]\n",
    "print(df.shape)\n",
    "df.head()"
   ]
  },
  {
   "cell_type": "code",
   "execution_count": 51,
   "metadata": {},
   "outputs": [
    {
     "name": "stdout",
     "output_type": "stream",
     "text": [
      "<class 'pandas.core.frame.DataFrame'>\n",
      "RangeIndex: 48 entries, 0 to 47\n",
      "Data columns (total 7 columns):\n",
      " #   Column                                           Non-Null Count  Dtype \n",
      "---  ------                                           --------------  ----- \n",
      " 0   Index                                            48 non-null     object\n",
      " 1   One                                              48 non-null     object\n",
      " 2   Gasolin tax (cents per gallon)                   48 non-null     object\n",
      " 3   Average income (dollars)                         48 non-null     object\n",
      " 4   Paved Highways (miles)                           48 non-null     object\n",
      " 5   Proportion of population with driver's licenses  48 non-null     object\n",
      " 6   Consumption of gasoline (millions of gallons)    48 non-null     object\n",
      "dtypes: object(7)\n",
      "memory usage: 2.8+ KB\n"
     ]
    }
   ],
   "source": [
    "df.info()"
   ]
  },
  {
   "cell_type": "code",
   "execution_count": 52,
   "metadata": {},
   "outputs": [
    {
     "name": "stdout",
     "output_type": "stream",
     "text": [
      "<class 'pandas.core.frame.DataFrame'>\n",
      "RangeIndex: 48 entries, 0 to 47\n",
      "Data columns (total 7 columns):\n",
      " #   Column                                           Non-Null Count  Dtype  \n",
      "---  ------                                           --------------  -----  \n",
      " 0   Index                                            48 non-null     object \n",
      " 1   One                                              48 non-null     float64\n",
      " 2   Gasolin tax (cents per gallon)                   48 non-null     float64\n",
      " 3   Average income (dollars)                         48 non-null     float64\n",
      " 4   Paved Highways (miles)                           48 non-null     float64\n",
      " 5   Proportion of population with driver's licenses  48 non-null     float64\n",
      " 6   Consumption of gasoline (millions of gallons)    48 non-null     float64\n",
      "dtypes: float64(6), object(1)\n",
      "memory usage: 2.8+ KB\n"
     ]
    }
   ],
   "source": [
    "# columns 3 - 7 are object type, convert to float\n",
    "for col in df.columns[1:7]:\n",
    "    df[col] = df[col].astype(float)\n",
    "\n",
    "df.info()"
   ]
  },
  {
   "cell_type": "markdown",
   "metadata": {},
   "source": [
    "#### 3.1. [10 points.] Show the equation found by fitting the training data:\n",
    "**y = f(x1, x2, x3, x4) = a0+ a1x1 + a2x2 + a3x3 + a4x4**"
   ]
  },
  {
   "cell_type": "code",
   "execution_count": 53,
   "metadata": {},
   "outputs": [],
   "source": [
    "# linear regression\n",
    "from sklearn.linear_model import LinearRegression\n",
    "from sklearn.model_selection import train_test_split"
   ]
  },
  {
   "cell_type": "code",
   "execution_count": 54,
   "metadata": {},
   "outputs": [
    {
     "name": "stdout",
     "output_type": "stream",
     "text": [
      "y = 0.00 -42.74X1 -0.07X2 -0.01X3 +1329.99X4 +487.37\n"
     ]
    }
   ],
   "source": [
    "#split data into train and test\n",
    "x = df.iloc[:, 1:6]\n",
    "y = df.iloc[:, 6]\n",
    "x_train, x_test, y_train, y_test = train_test_split(x, y, random_state=0)\n",
    "\n",
    "# fit the model\n",
    "model = LinearRegression()\n",
    "model.fit(x_train, y_train)\n",
    "\n",
    "# predict\n",
    "y_pred = model.predict(x_test)\n",
    "\n",
    "# show the equation\n",
    "print('y = {:.2f} {:+.2f}X1 {:+.2f}X2 {:+.2f}X3 {:+.2f}X4 {:+.2f}'.format(*model.coef_, model.intercept_))"
   ]
  },
  {
   "cell_type": "markdown",
   "metadata": {},
   "source": [
    "#### 3.2. [5 points.] What is the R2 for the prediction of y? Use testing data."
   ]
  },
  {
   "cell_type": "code",
   "execution_count": 59,
   "metadata": {},
   "outputs": [
    {
     "name": "stdout",
     "output_type": "stream",
     "text": [
      "R2 square of the test data:  0.16216522232680952\n"
     ]
    }
   ],
   "source": [
    "# find the R^2\n",
    "from sklearn.metrics import r2_score\n",
    "#print('R2 square of the training data: ', r2_score(y_train, model.predict(x_train)))\n",
    "print('R2 square of the test data: ', r2_score(y_test, y_pred))"
   ]
  },
  {
   "cell_type": "markdown",
   "metadata": {},
   "source": [
    "#### 3.3. [5 points.] What would happen to gasoline consumption if taxes are increased by $2.00? Use training data."
   ]
  },
  {
   "cell_type": "code",
   "execution_count": 56,
   "metadata": {},
   "outputs": [
    {
     "data": {
      "text/html": [
       "<div>\n",
       "<style scoped>\n",
       "    .dataframe tbody tr th:only-of-type {\n",
       "        vertical-align: middle;\n",
       "    }\n",
       "\n",
       "    .dataframe tbody tr th {\n",
       "        vertical-align: top;\n",
       "    }\n",
       "\n",
       "    .dataframe thead th {\n",
       "        text-align: right;\n",
       "    }\n",
       "</style>\n",
       "<table border=\"1\" class=\"dataframe\">\n",
       "  <thead>\n",
       "    <tr style=\"text-align: right;\">\n",
       "      <th></th>\n",
       "      <th>Index</th>\n",
       "      <th>One</th>\n",
       "      <th>Gasolin tax (cents per gallon)</th>\n",
       "      <th>Average income (dollars)</th>\n",
       "      <th>Paved Highways (miles)</th>\n",
       "      <th>Proportion of population with driver's licenses</th>\n",
       "      <th>Consumption of gasoline (millions of gallons)</th>\n",
       "    </tr>\n",
       "  </thead>\n",
       "  <tbody>\n",
       "    <tr>\n",
       "      <th>0</th>\n",
       "      <td>1</td>\n",
       "      <td>1.0</td>\n",
       "      <td>209.0</td>\n",
       "      <td>3571.0</td>\n",
       "      <td>1976.0</td>\n",
       "      <td>0.525</td>\n",
       "      <td>541.0</td>\n",
       "    </tr>\n",
       "    <tr>\n",
       "      <th>1</th>\n",
       "      <td>2</td>\n",
       "      <td>1.0</td>\n",
       "      <td>209.0</td>\n",
       "      <td>4092.0</td>\n",
       "      <td>1250.0</td>\n",
       "      <td>0.572</td>\n",
       "      <td>524.0</td>\n",
       "    </tr>\n",
       "    <tr>\n",
       "      <th>2</th>\n",
       "      <td>3</td>\n",
       "      <td>1.0</td>\n",
       "      <td>209.0</td>\n",
       "      <td>3865.0</td>\n",
       "      <td>1586.0</td>\n",
       "      <td>0.580</td>\n",
       "      <td>561.0</td>\n",
       "    </tr>\n",
       "    <tr>\n",
       "      <th>3</th>\n",
       "      <td>4</td>\n",
       "      <td>1.0</td>\n",
       "      <td>207.5</td>\n",
       "      <td>4870.0</td>\n",
       "      <td>2351.0</td>\n",
       "      <td>0.529</td>\n",
       "      <td>414.0</td>\n",
       "    </tr>\n",
       "    <tr>\n",
       "      <th>4</th>\n",
       "      <td>5</td>\n",
       "      <td>1.0</td>\n",
       "      <td>208.0</td>\n",
       "      <td>4399.0</td>\n",
       "      <td>431.0</td>\n",
       "      <td>0.544</td>\n",
       "      <td>410.0</td>\n",
       "    </tr>\n",
       "  </tbody>\n",
       "</table>\n",
       "</div>"
      ],
      "text/plain": [
       "  Index  One  Gasolin tax (cents per gallon)  Average income (dollars)  \\\n",
       "0     1  1.0                           209.0                    3571.0   \n",
       "1     2  1.0                           209.0                    4092.0   \n",
       "2     3  1.0                           209.0                    3865.0   \n",
       "3     4  1.0                           207.5                    4870.0   \n",
       "4     5  1.0                           208.0                    4399.0   \n",
       "\n",
       "   Paved Highways (miles)  Proportion of population with driver's licenses  \\\n",
       "0                  1976.0                                            0.525   \n",
       "1                  1250.0                                            0.572   \n",
       "2                  1586.0                                            0.580   \n",
       "3                  2351.0                                            0.529   \n",
       "4                   431.0                                            0.544   \n",
       "\n",
       "   Consumption of gasoline (millions of gallons)  \n",
       "0                                          541.0  \n",
       "1                                          524.0  \n",
       "2                                          561.0  \n",
       "3                                          414.0  \n",
       "4                                          410.0  "
      ]
     },
     "execution_count": 56,
     "metadata": {},
     "output_type": "execute_result"
    }
   ],
   "source": [
    "# plus 200.00 in every line Gasolin tax (cents per gallon)\n",
    "df['Gasolin tax (cents per gallon)'] = df['Gasolin tax (cents per gallon)'] + 200\n",
    "df.head()"
   ]
  },
  {
   "cell_type": "code",
   "execution_count": 57,
   "metadata": {},
   "outputs": [
    {
     "name": "stdout",
     "output_type": "stream",
     "text": [
      "y = 0.00 -42.74X1 -0.07X2 -0.01X3 +1329.99X4 +9034.72\n"
     ]
    }
   ],
   "source": [
    "#split data into train and test\n",
    "# all columns except the last one and 3rd column\n",
    "x = df.iloc[:, 1:6]\n",
    "y = df.iloc[:, 6]\n",
    "x_train, x_test, y_train, y_test = train_test_split(x, y, random_state=0)\n",
    "\n",
    "# fit the model\n",
    "model = LinearRegression()\n",
    "model.fit(x_train, y_train)\n",
    "\n",
    "# predict\n",
    "y_pred = model.predict(x_test)\n",
    "\n",
    "# show the equation\n",
    "print('y = {:.2f} {:+.2f}X1 {:+.2f}X2 {:+.2f}X3 {:+.2f}X4 {:+.2f}'.format(*model.coef_, model.intercept_))"
   ]
  },
  {
   "cell_type": "code",
   "execution_count": 58,
   "metadata": {},
   "outputs": [
    {
     "name": "stdout",
     "output_type": "stream",
     "text": [
      "R2 square of the training data:  0.7202870624476543\n",
      "R2 square of the test data:  0.16216522232680952\n"
     ]
    }
   ],
   "source": [
    "# find the R^2\n",
    "from sklearn.metrics import r2_score\n",
    "print('R2 square of the training data: ', r2_score(y_train, model.predict(x_train)))\n",
    "print('R2 square of the test data: ', r2_score(y_test, y_pred))"
   ]
  },
  {
   "cell_type": "markdown",
   "metadata": {},
   "source": [
    "**ANSWER:** A intecept has changed from 487.37 to 9034.72, and another is not changed."
   ]
  }
 ],
 "metadata": {
  "kernelspec": {
   "display_name": "Python 3",
   "language": "python",
   "name": "python3"
  },
  "language_info": {
   "codemirror_mode": {
    "name": "ipython",
    "version": 3
   },
   "file_extension": ".py",
   "mimetype": "text/x-python",
   "name": "python",
   "nbconvert_exporter": "python",
   "pygments_lexer": "ipython3",
   "version": "3.11.2"
  },
  "orig_nbformat": 4,
  "vscode": {
   "interpreter": {
    "hash": "d417a21d97a2e6b8832d21dc44f5cbe4be6e18325f874a8bb8484565b928cd54"
   }
  }
 },
 "nbformat": 4,
 "nbformat_minor": 2
}
