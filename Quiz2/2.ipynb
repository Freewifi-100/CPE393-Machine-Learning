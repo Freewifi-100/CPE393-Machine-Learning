{
 "cells": [
  {
   "cell_type": "code",
   "execution_count": 18,
   "metadata": {},
   "outputs": [],
   "source": [
    "import numpy as np\n",
    "import pandas as pd\n",
    "import matplotlib.pyplot as plt\n",
    "from sklearn.datasets import load_iris\n",
    "from sklearn.model_selection import train_test_split\n",
    "import cv2 as cv"
   ]
  },
  {
   "cell_type": "code",
   "execution_count": 19,
   "metadata": {},
   "outputs": [],
   "source": [
    "data_iris = load_iris()\n",
    "df_iris = pd.DataFrame(data_iris.data, columns=data_iris.feature_names)\n",
    "df_iris['target'] = data_iris.target\n",
    "df_iris['target_names'] = df_iris['target'].apply(lambda x: data_iris.target_names[x])\n",
    "#df_iris"
   ]
  },
  {
   "cell_type": "code",
   "execution_count": 20,
   "metadata": {},
   "outputs": [
    {
     "data": {
      "text/plain": [
       "setosa        50\n",
       "versicolor    50\n",
       "virginica     50\n",
       "Name: target_names, dtype: int64"
      ]
     },
     "execution_count": 20,
     "metadata": {},
     "output_type": "execute_result"
    }
   ],
   "source": [
    "#count the number of each target\n",
    "df_iris['target_names'].value_counts()"
   ]
  },
  {
   "cell_type": "code",
   "execution_count": 21,
   "metadata": {},
   "outputs": [],
   "source": [
    "features = [col for col in df_iris.columns if col not in [\"target\", \"target_names\"]]\n",
    "df_iris_features = df_iris[features]"
   ]
  },
  {
   "cell_type": "code",
   "execution_count": 22,
   "metadata": {},
   "outputs": [],
   "source": [
    "training_features, testing_features, training_labels, testing_labels = train_test_split(df_iris_features, df_iris['target'], test_size=0.3, random_state=42)"
   ]
  },
  {
   "cell_type": "code",
   "execution_count": 23,
   "metadata": {},
   "outputs": [
    {
     "data": {
      "text/html": [
       "<div>\n",
       "<style scoped>\n",
       "    .dataframe tbody tr th:only-of-type {\n",
       "        vertical-align: middle;\n",
       "    }\n",
       "\n",
       "    .dataframe tbody tr th {\n",
       "        vertical-align: top;\n",
       "    }\n",
       "\n",
       "    .dataframe thead tr th {\n",
       "        text-align: left;\n",
       "    }\n",
       "\n",
       "    .dataframe thead tr:last-of-type th {\n",
       "        text-align: right;\n",
       "    }\n",
       "</style>\n",
       "<table border=\"1\" class=\"dataframe\">\n",
       "  <thead>\n",
       "    <tr>\n",
       "      <th></th>\n",
       "      <th colspan=\"2\" halign=\"left\">sepal length (cm)</th>\n",
       "      <th colspan=\"2\" halign=\"left\">sepal width (cm)</th>\n",
       "      <th colspan=\"2\" halign=\"left\">petal length (cm)</th>\n",
       "      <th colspan=\"2\" halign=\"left\">petal width (cm)</th>\n",
       "    </tr>\n",
       "    <tr>\n",
       "      <th></th>\n",
       "      <th>mean</th>\n",
       "      <th>std</th>\n",
       "      <th>mean</th>\n",
       "      <th>std</th>\n",
       "      <th>mean</th>\n",
       "      <th>std</th>\n",
       "      <th>mean</th>\n",
       "      <th>std</th>\n",
       "    </tr>\n",
       "    <tr>\n",
       "      <th>target</th>\n",
       "      <th></th>\n",
       "      <th></th>\n",
       "      <th></th>\n",
       "      <th></th>\n",
       "      <th></th>\n",
       "      <th></th>\n",
       "      <th></th>\n",
       "      <th></th>\n",
       "    </tr>\n",
       "  </thead>\n",
       "  <tbody>\n",
       "    <tr>\n",
       "      <th>0</th>\n",
       "      <td>4.965</td>\n",
       "      <td>0.340</td>\n",
       "      <td>3.377</td>\n",
       "      <td>0.376</td>\n",
       "      <td>1.465</td>\n",
       "      <td>0.185</td>\n",
       "      <td>0.248</td>\n",
       "      <td>0.109</td>\n",
       "    </tr>\n",
       "    <tr>\n",
       "      <th>1</th>\n",
       "      <td>5.862</td>\n",
       "      <td>0.532</td>\n",
       "      <td>2.724</td>\n",
       "      <td>0.299</td>\n",
       "      <td>4.211</td>\n",
       "      <td>0.496</td>\n",
       "      <td>1.303</td>\n",
       "      <td>0.206</td>\n",
       "    </tr>\n",
       "    <tr>\n",
       "      <th>2</th>\n",
       "      <td>6.559</td>\n",
       "      <td>0.659</td>\n",
       "      <td>2.986</td>\n",
       "      <td>0.315</td>\n",
       "      <td>5.546</td>\n",
       "      <td>0.544</td>\n",
       "      <td>2.005</td>\n",
       "      <td>0.297</td>\n",
       "    </tr>\n",
       "  </tbody>\n",
       "</table>\n",
       "</div>"
      ],
      "text/plain": [
       "       sepal length (cm)       sepal width (cm)       petal length (cm)        \\\n",
       "                    mean   std             mean   std              mean   std   \n",
       "target                                                                          \n",
       "0                  4.965 0.340            3.377 0.376             1.465 0.185   \n",
       "1                  5.862 0.532            2.724 0.299             4.211 0.496   \n",
       "2                  6.559 0.659            2.986 0.315             5.546 0.544   \n",
       "\n",
       "       petal width (cm)        \n",
       "                   mean   std  \n",
       "target                         \n",
       "0                 0.248 0.109  \n",
       "1                 1.303 0.206  \n",
       "2                 2.005 0.297  "
      ]
     },
     "execution_count": 23,
     "metadata": {},
     "output_type": "execute_result"
    }
   ],
   "source": [
    "# find mean and standard deviation for each feature\n",
    "training_features.groupby(training_labels).agg(['mean', 'std'])"
   ]
  },
  {
   "cell_type": "code",
   "execution_count": 24,
   "metadata": {},
   "outputs": [],
   "source": [
    "#fine mean and standard deviation for each feature\n",
    "mean_setosa, mean_versicolor, mean_virginica = training_features.groupby(training_labels).mean().values\n",
    "std_setosa, std_versicolor, std_virginica = training_features.groupby(training_labels).std().values"
   ]
  },
  {
   "cell_type": "code",
   "execution_count": 25,
   "metadata": {},
   "outputs": [],
   "source": [
    "def gaussian(x, mean, std):\n",
    "    return 1/(np.sqrt(2*np.pi)*std)*np.exp(-((x-mean)**2)/(2*std**2))\n",
    "    \n",
    "def predict(sepal_length, sepal_width, petal_length, petal_width):\n",
    "    return (1/3)*sepal_length*sepal_width*petal_length*petal_width"
   ]
  },
  {
   "cell_type": "code",
   "execution_count": 26,
   "metadata": {},
   "outputs": [],
   "source": [
    "#setosa probability\n",
    "p_setosa_sepal_length, p_setosa_sepal_width = gaussian(testing_features['sepal length (cm)'], mean_setosa[0], std_setosa[0]), gaussian(testing_features['sepal width (cm)'], mean_setosa[1], std_setosa[1])\n",
    "p_setosa_petal_length, p_setosa_petal_width = gaussian(testing_features['petal length (cm)'], mean_setosa[2], std_setosa[2]), gaussian(testing_features['petal width (cm)'], mean_setosa[3], std_setosa[3])\n",
    "p_setosa = predict(p_setosa_sepal_length, p_setosa_sepal_width, p_setosa_petal_length, p_setosa_petal_width)\n",
    "\n",
    "#versicolor probability\n",
    "p_versicolor_sepal_length, p_versicolor_sepal_width = gaussian(testing_features['sepal length (cm)'], mean_versicolor[0], std_versicolor[0]), gaussian(testing_features['sepal width (cm)'], mean_versicolor[1], std_versicolor[1])\n",
    "p_versicolor_petal_length, p_versicolor_petal_width = gaussian(testing_features['petal length (cm)'], mean_versicolor[2], std_versicolor[2]), gaussian(testing_features['petal width (cm)'], mean_versicolor[3], std_versicolor[3])\n",
    "p_versicolor = predict(p_versicolor_sepal_length, p_versicolor_sepal_width, p_versicolor_petal_length, p_versicolor_petal_width)\n",
    "\n",
    "#virginica probability\n",
    "p_virginica_sepal_length, p_virginica_sepal_width = gaussian(testing_features['sepal length (cm)'], mean_virginica[0], std_virginica[0]), gaussian(testing_features['sepal width (cm)'], mean_virginica[1], std_virginica[1])\n",
    "p_virginica_petal_length, p_virginica_petal_width = gaussian(testing_features['petal length (cm)'], mean_virginica[2], std_virginica[2]), gaussian(testing_features['petal width (cm)'], mean_virginica[3], std_virginica[3])\n",
    "p_virginica = predict(p_virginica_sepal_length, p_virginica_sepal_width, p_virginica_petal_length, p_virginica_petal_width)"
   ]
  },
  {
   "cell_type": "code",
   "execution_count": 27,
   "metadata": {},
   "outputs": [],
   "source": [
    "df_ans = pd.DataFrame()\n",
    "df_ans['p_setosa'] = p_setosa\n",
    "df_ans['p_versicolor'] = p_versicolor\n",
    "df_ans['p_virginica'] = p_virginica\n",
    "df_ans['target_names'] = testing_labels.apply(lambda x: data_iris.target_names[x])\n",
    "# what column has the highest probability\n",
    "df_ans['my_predicted_labels'] = df_ans[['p_setosa', 'p_versicolor', 'p_virginica']].idxmax(axis=1)\n",
    "df_ans['my_predicted_labels'] = df_ans['my_predicted_labels'].apply(lambda x: x.split('_')[1])\n",
    "df_ans['Correct_Naive'] = df_ans['target_names'] == df_ans['my_predicted_labels']\n",
    "#df_ans"
   ]
  },
  {
   "cell_type": "code",
   "execution_count": 28,
   "metadata": {},
   "outputs": [
    {
     "name": "stdout",
     "output_type": "stream",
     "text": [
      "Accuracy ['NB from Scratch']: 97.78%\n"
     ]
    }
   ],
   "source": [
    "# t0tal accuracy\n",
    "from sklearn.metrics import accuracy_score\n",
    "accuracy_percent = accuracy_score(df_ans['target_names'], df_ans['my_predicted_labels']) * 100\n",
    "print (\"Accuracy ['NB from Scratch']: %5.2f%%\" %accuracy_percent)"
   ]
  },
  {
   "cell_type": "code",
   "execution_count": 29,
   "metadata": {},
   "outputs": [
    {
     "name": "stdout",
     "output_type": "stream",
     "text": [
      "Accuracy ['sklearn.naive_bayes']: 97.78%\n"
     ]
    }
   ],
   "source": [
    "# use Guussian Naive Bayes from sklearn\n",
    "from sklearn.naive_bayes import GaussianNB\n",
    "classifier = GaussianNB()\n",
    "model = classifier.fit(training_features, training_labels)\n",
    "predictions_labels = model.predict(testing_features)\n",
    "\n",
    "# create a dataframe to compare the results\n",
    "df_ans['GaussianNB'] = predictions_labels\n",
    "df_ans['GaussianNB'] = df_ans['GaussianNB'].apply(lambda x: data_iris.target_names[x])\n",
    "df_ans['correct_GaussianNB'] = df_ans['target_names'] == df_ans['GaussianNB']\n",
    "accuracy_percent = accuracy_score(testing_labels, predictions_labels) * 100\n",
    "print (\"Accuracy ['sklearn.naive_bayes']: %5.2f%%\" %accuracy_percent)\n",
    "df_ans['check equal'] = df_ans['Correct_Naive'] == df_ans['correct_GaussianNB']"
   ]
  },
  {
   "cell_type": "code",
   "execution_count": 30,
   "metadata": {},
   "outputs": [
    {
     "name": "stdout",
     "output_type": "stream",
     "text": [
      "success\n"
     ]
    }
   ],
   "source": [
    "\n",
    "if all(df_ans['check equal']):\n",
    "    print('success')\n",
    "else:\n",
    "    print('fail')"
   ]
  },
  {
   "cell_type": "code",
   "execution_count": 31,
   "metadata": {},
   "outputs": [],
   "source": [
    "# import matplotlib.pyplot as plt\n",
    "# import pandas as pd\n",
    "\n",
    "#  # the value have 3 decimal places\n",
    "# pd.options.display.float_format = '{:,.3f}'.format\n",
    "# fig, ax = plt.subplots(figsize=(20, 2))\n",
    "# ax.xaxis.set_visible(False)  # hide the x axis\n",
    "# ax.yaxis.set_visible(False)  # hide the y axis\n",
    "\n",
    "# pd.plotting.table(ax, df_ans)  # where df is your data frame\n",
    "\n",
    "# plt.savefig('mytable.png')"
   ]
  }
 ],
 "metadata": {
  "kernelspec": {
   "display_name": "Python 3.9.12 64-bit",
   "language": "python",
   "name": "python3"
  },
  "language_info": {
   "codemirror_mode": {
    "name": "ipython",
    "version": 3
   },
   "file_extension": ".py",
   "mimetype": "text/x-python",
   "name": "python",
   "nbconvert_exporter": "python",
   "pygments_lexer": "ipython3",
   "version": "3.9.12 (tags/v3.9.12:b28265d, Mar 23 2022, 23:52:46) [MSC v.1929 64 bit (AMD64)]"
  },
  "orig_nbformat": 4,
  "vscode": {
   "interpreter": {
    "hash": "1d5c1156327dacead463cc502c55ebae8ce9c8c01979cf154173ff808e75bf55"
   }
  }
 },
 "nbformat": 4,
 "nbformat_minor": 2
}
