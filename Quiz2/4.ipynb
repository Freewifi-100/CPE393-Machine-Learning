{
 "cells": [
  {
   "cell_type": "code",
   "execution_count": 33,
   "metadata": {},
   "outputs": [],
   "source": [
    "import numpy as np\n",
    "import pandas as pd\n",
    "from sklearn.datasets import load_iris, load_breast_cancer\n",
    "from sklearn.model_selection import train_test_split"
   ]
  },
  {
   "cell_type": "code",
   "execution_count": 34,
   "metadata": {},
   "outputs": [],
   "source": [
    "dataset_type = input('Enter iris for the Iris dataset and cancer for the Breast Cancer dataset ')\n",
    "if dataset_type.lower() == 'iris': \n",
    "  the_data = load_iris() #get the data from sklearn\n",
    "elif dataset_type.lower() == 'cancer': \n",
    "  the_data = load_breast_cancer() #get the data from sklearn\n",
    "else: \n",
    "  print('Invalid dataset type')\n",
    "  exit()\n",
    "#print('The dataset is ', dataset_type)"
   ]
  },
  {
   "cell_type": "code",
   "execution_count": 35,
   "metadata": {},
   "outputs": [],
   "source": [
    "def check_type(name):\n",
    "    if dataset_type.lower() == 'iris':\n",
    "        feature = the_data.data\n",
    "        target = the_data.target\n",
    "    elif dataset_type.lower() == 'cancer':\n",
    "        feature = the_data.data\n",
    "        target = the_data.target\n",
    "    return feature, target"
   ]
  },
  {
   "cell_type": "code",
   "execution_count": 36,
   "metadata": {},
   "outputs": [],
   "source": [
    "def z_score(feature):\n",
    "    mean = int(0)\n",
    "    std = int(1)\n",
    "    z = (feature - mean) / std\n",
    "    return z"
   ]
  },
  {
   "cell_type": "code",
   "execution_count": 37,
   "metadata": {},
   "outputs": [],
   "source": [
    "feature, target = check_type(dataset_type)\n",
    "training_features, testing_features, training_labels, testing_labels = train_test_split(feature, target, test_size=0.2)"
   ]
  },
  {
   "cell_type": "code",
   "execution_count": 38,
   "metadata": {},
   "outputs": [],
   "source": [
    "from sklearn.neighbors import KNeighborsClassifier\n",
    "from sklearn.metrics import accuracy_score\n",
    "def best_K(feature, target):\n",
    "    neighbor_size = []\n",
    "    errors_list = []\n",
    "    best_k = 0\n",
    "    for k in range (2, 20): \n",
    "        classifier = KNeighborsClassifier(n_neighbors = k)\n",
    "        model = classifier.fit(training_features,training_labels)  # or can also use:   predicted_labels = classifier.fit(train_features,train_labels) \n",
    "        predicted_labels = model.predict(testing_features)  #use the model obtained in previous step to predict labels for testing features\n",
    "        accuracy_percent = accuracy_score(testing_labels, predicted_labels) * 100\n",
    "        # Calculating the % Accuracy of the prediction. \n",
    "        #print(\"Prediction Accuracy for k = %2d : %5.2f%%\" % (k, accuracy_percent)) #%% escapes the formatting % to print '%'\n",
    "        neighbor_size.append(k)\n",
    "        errors_list.append(101-accuracy_percent)\n",
    "        if min(errors_list):\n",
    "            best_k = neighbor_size[errors_list.index(min(errors_list))]\n",
    "    #print (\" K = \", neighbor_size, \"\\n\", \"Errors = \", errors_list)\n",
    "    return best_k"
   ]
  },
  {
   "cell_type": "code",
   "execution_count": 39,
   "metadata": {},
   "outputs": [],
   "source": [
    "def Knn(k, feature, target):\n",
    "    classifier = KNeighborsClassifier(n_neighbors=k)\n",
    "    model = classifier.fit(training_features, training_labels)\n",
    "    # use the model obtained in previous step to predict labels for testing features\n",
    "    predicted_labels = model.predict(testing_features)\n",
    "    # evaluate the model\n",
    "    accuracy_percent = accuracy_score(testing_labels, predicted_labels) * 100\n",
    "    print(\"\\nThe \" + dataset_type +\" use KNN Accuracy: %5.2f%%\" %accuracy_percent)\n",
    "    return accuracy_percent"
   ]
  },
  {
   "cell_type": "code",
   "execution_count": 40,
   "metadata": {},
   "outputs": [
    {
     "name": "stdout",
     "output_type": "stream",
     "text": [
      "Unnormalized cancer dataset:\n",
      "\n",
      "The cancer use KNN Accuracy: 97.37%\n",
      "\n",
      "The best 'unnormalized' K is  5\n",
      "--------------------------------------------------\n",
      "\n",
      "Normalized cancer dataset:\n",
      "\n",
      "The cancer use KNN Accuracy: 97.37%\n",
      "\n",
      "The best 'normalized' K is  5\n",
      "\n",
      " compare acuracy of unnormalized : normalized == 97.37% : 97.37%\n"
     ]
    }
   ],
   "source": [
    "feature, target = check_type(dataset_type)\n",
    "\n",
    "print(\"Unnormalized \" + dataset_type + \" dataset:\")\n",
    "k_unnormalized = best_K(feature, target)\n",
    "accuracy_percent_unnormalized  = Knn(k_unnormalized, feature, target)\n",
    "print(\"\\nThe best 'unnormalized' K is \", k_unnormalized)\n",
    "\n",
    "print(\"--------------------------------------------------\\n\")\n",
    "\n",
    "print(\"Normalized \" + dataset_type + \" dataset:\")\n",
    "feature_z = z_score(feature)\n",
    "k_normalized = best_K(feature_z, target)\n",
    "accuracy_percent_normalized = Knn(k_normalized, feature_z, target)\n",
    "print(\"\\nThe best 'normalized' K is \", k_normalized)\n",
    "print(\"\\n compare accuracy of unnormalized : normalized == %5.2f%% : %5.2f%%\" %(accuracy_percent_unnormalized, accuracy_percent_normalized))"
   ]
  }
 ],
 "metadata": {
  "kernelspec": {
   "display_name": "Python 3.9.12 64-bit",
   "language": "python",
   "name": "python3"
  },
  "language_info": {
   "codemirror_mode": {
    "name": "ipython",
    "version": 3
   },
   "file_extension": ".py",
   "mimetype": "text/x-python",
   "name": "python",
   "nbconvert_exporter": "python",
   "pygments_lexer": "ipython3",
   "version": "3.9.12 (tags/v3.9.12:b28265d, Mar 23 2022, 23:52:46) [MSC v.1929 64 bit (AMD64)]"
  },
  "orig_nbformat": 4,
  "vscode": {
   "interpreter": {
    "hash": "1d5c1156327dacead463cc502c55ebae8ce9c8c01979cf154173ff808e75bf55"
   }
  }
 },
 "nbformat": 4,
 "nbformat_minor": 2
}
