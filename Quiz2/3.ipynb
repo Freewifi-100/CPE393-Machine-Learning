{
 "cells": [
  {
   "cell_type": "code",
   "execution_count": 18,
   "metadata": {},
   "outputs": [],
   "source": [
    "import numpy as np\n",
    "import pandas as pd\n",
    "from sklearn.datasets import load_iris, load_breast_cancer, load_digits\n",
    "from sklearn.model_selection import train_test_split\n",
    "from sklearn.naive_bayes import GaussianNB\n",
    "from sklearn.neighbors import KNeighborsClassifier\n",
    "from sklearn.metrics import accuracy_score"
   ]
  },
  {
   "cell_type": "code",
   "execution_count": 19,
   "metadata": {},
   "outputs": [
    {
     "name": "stdout",
     "output_type": "stream",
     "text": [
      "The dataset is  digits\n"
     ]
    }
   ],
   "source": [
    "dataset_type = input('Enter iris for the Iris dataset, cancer for the Breast Cancer dataset and digits for the Digits dataset:')\n",
    "if dataset_type.lower() == 'iris': \n",
    "  the_data = load_iris() #get the data from sklearn\n",
    "elif dataset_type.lower() == 'cancer': \n",
    "  the_data = load_breast_cancer() #get the data from sklearn\n",
    "elif dataset_type.lower() == 'digits':\n",
    "  the_data = load_digits() #get the data from sklearn\n",
    "else: \n",
    "  print('Invalid dataset type')\n",
    "  exit()\n",
    "print('The dataset is ', dataset_type)"
   ]
  },
  {
   "cell_type": "code",
   "execution_count": 20,
   "metadata": {},
   "outputs": [],
   "source": [
    "def check_type(name):\n",
    "    if dataset_type.lower() == 'iris':\n",
    "        feature = the_data.data\n",
    "        target = the_data.target\n",
    "    elif dataset_type.lower() == 'cancer':\n",
    "        feature = the_data.data\n",
    "        target = the_data.target\n",
    "    elif dataset_type.lower() == 'digits':\n",
    "        feature = the_data.data\n",
    "        target = the_data.target\n",
    "    return feature, target"
   ]
  },
  {
   "cell_type": "code",
   "execution_count": 21,
   "metadata": {},
   "outputs": [],
   "source": [
    "feature, target = check_type(dataset_type)\n",
    "training_features, testing_features, training_labels, testing_labels  = train_test_split(feature, target, test_size=0.2)"
   ]
  },
  {
   "cell_type": "code",
   "execution_count": 22,
   "metadata": {},
   "outputs": [],
   "source": [
    "def Gaussian_NB(feature, target):\n",
    "    classifier = GaussianNB()\n",
    "    model = classifier.fit(training_features, training_labels)\n",
    "    # use the model obtained in previous step to predict labels for testing features\n",
    "    predicted_labels = model.predict(testing_features)\n",
    "    # evaluate the model\n",
    "    from sklearn.metrics import accuracy_score\n",
    "    accuracy_percent = accuracy_score(testing_labels, predicted_labels) * 100\n",
    "    print(\"\\nThe \" + dataset_type +\" use GaussianNB Accuracy: %5.2f%%\\n\" % accuracy_percent)"
   ]
  },
  {
   "cell_type": "code",
   "execution_count": 23,
   "metadata": {},
   "outputs": [],
   "source": [
    "def best_K(feature, target):\n",
    "    neighbor_size = []\n",
    "    errors_list = []\n",
    "    best_k = 0\n",
    "    for k in range (2, 20): \n",
    "        classifier = KNeighborsClassifier(n_neighbors = k)\n",
    "        model = classifier.fit(training_features,training_labels)  # or can also use:   predicted_labels = classifier.fit(train_features,train_labels) \n",
    "        predicted_labels = model.predict(testing_features)  #use the model obtained in previous step to predict labels for testing features\n",
    "        accuracy_percent = accuracy_score(testing_labels, predicted_labels) * 100\n",
    "        # Calculating the % Accuracy of the prediction. \n",
    "        print(\"Accuracy for k = %2d : %5.2f%%\" % (k, accuracy_percent)) #%% escapes the formatting % to print '%'\n",
    "        neighbor_size.append(k)\n",
    "        errors_list.append(101-accuracy_percent)\n",
    "        if min(errors_list):\n",
    "            best_k = neighbor_size[errors_list.index(min(errors_list))]\n",
    "    #print (\" K = \", neighbor_size, \"\\n\", \"Errors = \", errors_list)\n",
    "    return best_k"
   ]
  },
  {
   "cell_type": "code",
   "execution_count": 24,
   "metadata": {},
   "outputs": [],
   "source": [
    "def Knn(k, feature, target):\n",
    "    classifier = KNeighborsClassifier(n_neighbors=k)\n",
    "    model = classifier.fit(training_features, training_labels)\n",
    "    # use the model obtained in previous step to predict labels for testing features\n",
    "    predicted_labels = model.predict(testing_features)\n",
    "    # evaluate the model\n",
    "    accuracy_percent = accuracy_score(testing_labels, predicted_labels) * 100\n",
    "    print(\"\\nThe \" + dataset_type +\" use KNN Accuracy: %5.2f%%\" % accuracy_percent)\n",
    "    "
   ]
  },
  {
   "cell_type": "code",
   "execution_count": 25,
   "metadata": {},
   "outputs": [
    {
     "name": "stdout",
     "output_type": "stream",
     "text": [
      "\n",
      "The digits use GaussianNB Accuracy: 85.56%\n",
      "\n",
      "Accuracy for k =  2 : 98.33%\n",
      "Accuracy for k =  3 : 98.33%\n",
      "Accuracy for k =  4 : 98.33%\n",
      "Accuracy for k =  5 : 98.61%\n",
      "Accuracy for k =  6 : 97.78%\n",
      "Accuracy for k =  7 : 97.78%\n",
      "Accuracy for k =  8 : 97.50%\n",
      "Accuracy for k =  9 : 97.78%\n",
      "Accuracy for k = 10 : 97.78%\n",
      "Accuracy for k = 11 : 97.50%\n",
      "Accuracy for k = 12 : 96.94%\n",
      "Accuracy for k = 13 : 97.22%\n",
      "Accuracy for k = 14 : 97.50%\n",
      "Accuracy for k = 15 : 97.22%\n",
      "Accuracy for k = 16 : 97.22%\n",
      "Accuracy for k = 17 : 96.94%\n",
      "Accuracy for k = 18 : 96.94%\n",
      "Accuracy for k = 19 : 96.67%\n",
      "\n",
      "The digits use KNN Accuracy: 98.61%\n",
      "\n",
      "The best K is  5\n"
     ]
    }
   ],
   "source": [
    "feature, target = check_type(dataset_type)\n",
    "Gaussian_NB(feature, target)\n",
    "k = best_K(feature, target)\n",
    "Knn(k, feature, target)\n",
    "print(\"\\nThe best K is \", k)"
   ]
  }
 ],
 "metadata": {
  "kernelspec": {
   "display_name": "Python 3.9.12 64-bit",
   "language": "python",
   "name": "python3"
  },
  "language_info": {
   "codemirror_mode": {
    "name": "ipython",
    "version": 3
   },
   "file_extension": ".py",
   "mimetype": "text/x-python",
   "name": "python",
   "nbconvert_exporter": "python",
   "pygments_lexer": "ipython3",
   "version": "3.9.12 (tags/v3.9.12:b28265d, Mar 23 2022, 23:52:46) [MSC v.1929 64 bit (AMD64)]"
  },
  "orig_nbformat": 4,
  "vscode": {
   "interpreter": {
    "hash": "1d5c1156327dacead463cc502c55ebae8ce9c8c01979cf154173ff808e75bf55"
   }
  }
 },
 "nbformat": 4,
 "nbformat_minor": 2
}
