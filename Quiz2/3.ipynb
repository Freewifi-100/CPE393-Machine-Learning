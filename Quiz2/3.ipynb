{
 "cells": [
  {
   "cell_type": "code",
   "execution_count": 33,
   "metadata": {},
   "outputs": [],
   "source": [
    "import numpy as np\n",
    "import pandas as pd\n",
    "from sklearn.datasets import load_iris, load_breast_cancer, load_digits\n",
    "from sklearn.model_selection import train_test_split\n",
    "from sklearn.naive_bayes import GaussianNB\n",
    "from sklearn.neighbors import KNeighborsClassifier\n",
    "from sklearn.metrics import accuracy_score"
   ]
  },
  {
   "cell_type": "code",
   "execution_count": 34,
   "metadata": {},
   "outputs": [
    {
     "name": "stdout",
     "output_type": "stream",
     "text": [
      "The dataset is  iris\n"
     ]
    }
   ],
   "source": [
    "dataset_type = input('Enter iris for the Iris dataset, cancer for the Breast Cancer dataset and digits for the Digits dataset:')\n",
    "if dataset_type.lower() == 'iris': \n",
    "  the_data = load_iris() #get the data from sklearn\n",
    "elif dataset_type.lower() == 'cancer': \n",
    "  the_data = load_breast_cancer() #get the data from sklearn\n",
    "elif dataset_type.lower() == 'digits':\n",
    "  the_data = load_digits() #get the data from sklearn\n",
    "else: \n",
    "  print('Invalid dataset type')\n",
    "  exit()\n",
    "print('The dataset is ', dataset_type)"
   ]
  },
  {
   "cell_type": "code",
   "execution_count": 35,
   "metadata": {},
   "outputs": [],
   "source": [
    "def check_type(name):\n",
    "    if dataset_type.lower() == 'iris':\n",
    "        feature = the_data.data\n",
    "        target = the_data.target\n",
    "    elif dataset_type.lower() == 'cancer':\n",
    "        feature = the_data.data\n",
    "        target = the_data.target\n",
    "    elif dataset_type.lower() == 'digits':\n",
    "        feature = the_data.data\n",
    "        target = the_data.target\n",
    "    return feature, target"
   ]
  },
  {
   "cell_type": "code",
   "execution_count": 36,
   "metadata": {},
   "outputs": [],
   "source": [
    "feature, target = check_type(dataset_type)\n",
    "training_features, testing_features, training_labels, testing_labels  = train_test_split(feature, target, test_size=0.2)\n"
   ]
  },
  {
   "cell_type": "code",
   "execution_count": 37,
   "metadata": {},
   "outputs": [],
   "source": [
    "def Gaussian_NB(feature, target):\n",
    "    classifier = GaussianNB()\n",
    "    model = classifier.fit(training_features, training_labels)\n",
    "    # use the model obtained in previous step to predict labels for testing features\n",
    "    predicted_labels = model.predict(testing_features)\n",
    "    # evaluate the model\n",
    "    from sklearn.metrics import accuracy_score\n",
    "    accuracy_percent = accuracy_score(testing_labels, predicted_labels) * 100\n",
    "    print(\"\\nThe \" + dataset_type +\" use GaussianNB Accuracy: %5.2f%%\\n\" % accuracy_percent)"
   ]
  },
  {
   "cell_type": "code",
   "execution_count": 38,
   "metadata": {},
   "outputs": [],
   "source": [
    "def best_K(feature, target):\n",
    "    neighbor_size = []\n",
    "    errors_list = []\n",
    "    best_k = 0\n",
    "    for k in range (2, 20): \n",
    "        classifier = KNeighborsClassifier(n_neighbors = k)\n",
    "        model = classifier.fit(training_features,training_labels)  # or can also use:   predicted_labels = classifier.fit(train_features,train_labels) \n",
    "        predicted_labels = model.predict(testing_features)  #use the model obtained in previous step to predict labels for testing features\n",
    "        accuracy_percent = accuracy_score(testing_labels, predicted_labels) * 100\n",
    "        # Calculating the % Accuracy of the prediction. \n",
    "        print(\"Prediction Accuracy for k = %2d : %5.2f%%\" % (k, accuracy_percent)) #%% escapes the formatting % to print '%'\n",
    "        neighbor_size.append(k)\n",
    "        errors_list.append(101-accuracy_percent)\n",
    "        if min(errors_list):\n",
    "            best_k = neighbor_size[errors_list.index(min(errors_list))]\n",
    "    #print (\" K = \", neighbor_size, \"\\n\", \"Errors = \", errors_list)\n",
    "    return best_k"
   ]
  },
  {
   "cell_type": "code",
   "execution_count": 39,
   "metadata": {},
   "outputs": [],
   "source": [
    "def Knn(k, feature, target):\n",
    "    classifier = KNeighborsClassifier(n_neighbors=k)\n",
    "    model = classifier.fit(training_features, training_labels)\n",
    "    # use the model obtained in previous step to predict labels for testing features\n",
    "    predicted_labels = model.predict(testing_features)\n",
    "    # evaluate the model\n",
    "    accuracy_percent = accuracy_score(testing_labels, predicted_labels) * 100\n",
    "    print(\"\\nThe \" + dataset_type +\" use KNN Accuracy: %5.2f%%\" % accuracy_percent)\n",
    "    "
   ]
  },
  {
   "cell_type": "code",
   "execution_count": 40,
   "metadata": {},
   "outputs": [
    {
     "name": "stdout",
     "output_type": "stream",
     "text": [
      "\n",
      "The iris use GaussianNB Accuracy: 100.00%\n",
      "\n",
      "Prediction Accuracy for k =  2 : 93.33%\n",
      "Prediction Accuracy for k =  3 : 96.67%\n",
      "Prediction Accuracy for k =  4 : 96.67%\n",
      "Prediction Accuracy for k =  5 : 96.67%\n",
      "Prediction Accuracy for k =  6 : 93.33%\n",
      "Prediction Accuracy for k =  7 : 93.33%\n",
      "Prediction Accuracy for k =  8 : 93.33%\n",
      "Prediction Accuracy for k =  9 : 93.33%\n",
      "Prediction Accuracy for k = 10 : 93.33%\n",
      "Prediction Accuracy for k = 11 : 93.33%\n",
      "Prediction Accuracy for k = 12 : 93.33%\n",
      "Prediction Accuracy for k = 13 : 93.33%\n",
      "Prediction Accuracy for k = 14 : 93.33%\n",
      "Prediction Accuracy for k = 15 : 96.67%\n",
      "Prediction Accuracy for k = 16 : 90.00%\n",
      "Prediction Accuracy for k = 17 : 90.00%\n",
      "Prediction Accuracy for k = 18 : 90.00%\n",
      "Prediction Accuracy for k = 19 : 90.00%\n",
      "\n",
      "The iris use KNN Accuracy: 96.67%\n",
      "\n",
      "The best K is  3\n"
     ]
    }
   ],
   "source": [
    "feature, target = check_type(dataset_type)\n",
    "Gaussian_NB(feature, target)\n",
    "k = best_K(feature, target)\n",
    "Knn(k, feature, target)\n",
    "print(\"\\nThe best K is \", k)"
   ]
  }
 ],
 "metadata": {
  "kernelspec": {
   "display_name": "Python 3.9.12 64-bit",
   "language": "python",
   "name": "python3"
  },
  "language_info": {
   "codemirror_mode": {
    "name": "ipython",
    "version": 3
   },
   "file_extension": ".py",
   "mimetype": "text/x-python",
   "name": "python",
   "nbconvert_exporter": "python",
   "pygments_lexer": "ipython3",
   "version": "3.9.12"
  },
  "orig_nbformat": 4,
  "vscode": {
   "interpreter": {
    "hash": "1d5c1156327dacead463cc502c55ebae8ce9c8c01979cf154173ff808e75bf55"
   }
  }
 },
 "nbformat": 4,
 "nbformat_minor": 2
}
