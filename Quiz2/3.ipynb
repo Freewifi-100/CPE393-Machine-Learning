{
 "cells": [
  {
   "cell_type": "code",
   "execution_count": 31,
   "metadata": {},
   "outputs": [],
   "source": [
    "import numpy as np\n",
    "import pandas as pd\n",
    "import matplotlib.pyplot as plt\n",
    "from sklearn.datasets import load_iris, load_breast_cancer\n",
    "from sklearn.model_selection import train_test_split"
   ]
  },
  {
   "cell_type": "code",
   "execution_count": 32,
   "metadata": {},
   "outputs": [
    {
     "name": "stdout",
     "output_type": "stream",
     "text": [
      "The dataset is  cancer\n"
     ]
    }
   ],
   "source": [
    "#dataset_type = input('Enter iris for the Iris dataset and cancer for the Breast Cancer dataset ')\n",
    "dataset_type = 'cancer'\n",
    "if dataset_type.lower() == 'iris': \n",
    "  the_data = load_iris() #get the data from sklearn\n",
    "elif dataset_type.lower() == 'cancer': \n",
    "  the_data = load_breast_cancer() #get the data from sklearn\n",
    "else: \n",
    "  print('Invalid dataset type')\n",
    "  exit()\n",
    "print('The dataset is ', dataset_type)"
   ]
  },
  {
   "cell_type": "code",
   "execution_count": 33,
   "metadata": {},
   "outputs": [
    {
     "name": "stdout",
     "output_type": "stream",
     "text": [
      "\n",
      "The Cancer use GaussianNB Accuracy: 93.57%\n"
     ]
    }
   ],
   "source": [
    "if dataset_type.lower() == 'iris':\n",
    "    #get the data\n",
    "    feature_iris = the_data.data\n",
    "    target_iris = the_data.target\n",
    "    #split the data\n",
    "    training_features, testing_features, training_labels, testing_labels = train_test_split(feature_iris, target_iris, test_size=0.3)\n",
    "    #create the model\n",
    "    from sklearn.naive_bayes import GaussianNB\n",
    "    classifier = GaussianNB() #classifier is now an object of the Gaussian Naive Bayes class\n",
    "    model = classifier.fit(training_features,training_labels)  \n",
    "    predicted_labels = model.predict(testing_features) #use the model obtained in previous step to predict labels for testing features\n",
    "    #evaluate the model\n",
    "    from sklearn.metrics import accuracy_score\n",
    "    accuracy_percent = accuracy_score(testing_labels, predicted_labels) * 100\n",
    "    print (\"\\nThe Iris use GaussianNB Accuracy: %5.2f%%\" %accuracy_percent)\n",
    "    \n",
    "elif dataset_type.lower() == 'cancer':\n",
    "    #get the data\n",
    "    feature_cancer = the_data.data\n",
    "    target_cancer = the_data.target\n",
    "    #split the data\n",
    "    training_features, testing_features, training_labels, testing_labels = train_test_split(feature_cancer, target_cancer, test_size=0.3)\n",
    "    #create the model\n",
    "    from sklearn.naive_bayes import GaussianNB\n",
    "    classifier = GaussianNB()\n",
    "    model = classifier.fit(training_features,training_labels)\n",
    "    predicted_labels = model.predict(testing_features)\n",
    "    #evaluate the model \n",
    "    from sklearn.metrics import accuracy_score\n",
    "    accuracy_percent = accuracy_score(testing_labels, predicted_labels) * 100\n",
    "    print (\"\\nThe Cancer use GaussianNB Accuracy: %5.2f%%\" %accuracy_percent)\n",
    "    "
   ]
  },
  {
   "cell_type": "code",
   "execution_count": null,
   "metadata": {},
   "outputs": [],
   "source": []
  }
 ],
 "metadata": {
  "kernelspec": {
   "display_name": "Python 3.9.12 64-bit",
   "language": "python",
   "name": "python3"
  },
  "language_info": {
   "codemirror_mode": {
    "name": "ipython",
    "version": 3
   },
   "file_extension": ".py",
   "mimetype": "text/x-python",
   "name": "python",
   "nbconvert_exporter": "python",
   "pygments_lexer": "ipython3",
   "version": "3.9.12"
  },
  "orig_nbformat": 4,
  "vscode": {
   "interpreter": {
    "hash": "1d5c1156327dacead463cc502c55ebae8ce9c8c01979cf154173ff808e75bf55"
   }
  }
 },
 "nbformat": 4,
 "nbformat_minor": 2
}
