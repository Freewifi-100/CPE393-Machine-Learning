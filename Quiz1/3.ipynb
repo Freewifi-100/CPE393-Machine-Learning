{
 "cells": [
  {
   "cell_type": "code",
   "execution_count": 1,
   "metadata": {},
   "outputs": [],
   "source": [
    "import cv2 as cv\n",
    "import numpy as np\n",
    "import matplotlib.pyplot as plt"
   ]
  },
  {
   "cell_type": "markdown",
   "metadata": {},
   "source": [
    "### Create Trianing"
   ]
  },
  {
   "cell_type": "code",
   "execution_count": 2,
   "metadata": {},
   "outputs": [],
   "source": [
    "# Feature set containing 25 * 2 for 25 (x,y) values of known/training data that are random integers 0-99\n",
    "trainData = np.random.randint(0,100,(25,2)).astype(np.float32)\n",
    "# Label each one either Red or Blue with numbers 0 and 1. Response is a random integers 0-1 of 25 * 1 values\n",
    "responses = np.random.randint(0,3,(25,1)).astype(np.float32) #responses 25 x 1 matrix "
   ]
  },
  {
   "cell_type": "code",
   "execution_count": 3,
   "metadata": {},
   "outputs": [
    {
     "data": {
      "text/plain": [
       "array([[2.],\n",
       "       [1.],\n",
       "       [0.],\n",
       "       [0.],\n",
       "       [0.],\n",
       "       [2.],\n",
       "       [2.],\n",
       "       [2.],\n",
       "       [2.],\n",
       "       [1.],\n",
       "       [2.],\n",
       "       [2.],\n",
       "       [2.],\n",
       "       [2.],\n",
       "       [0.],\n",
       "       [0.],\n",
       "       [2.],\n",
       "       [0.],\n",
       "       [2.],\n",
       "       [0.],\n",
       "       [0.],\n",
       "       [2.],\n",
       "       [1.],\n",
       "       [0.],\n",
       "       [0.]], dtype=float32)"
      ]
     },
     "execution_count": 3,
     "metadata": {},
     "output_type": "execute_result"
    }
   ],
   "source": [
    "responses"
   ]
  },
  {
   "cell_type": "code",
   "execution_count": 4,
   "metadata": {},
   "outputs": [
    {
     "name": "stdout",
     "output_type": "stream",
     "text": [
      "Training Data:\n",
      " [[59. 57.]\n",
      " [74.  7.]\n",
      " [15. 68.]\n",
      " [45. 47.]\n",
      " [ 6. 63.]\n",
      " [65. 21.]\n",
      " [65. 34.]\n",
      " [19. 34.]\n",
      " [73. 18.]\n",
      " [90. 35.]\n",
      " [43. 85.]\n",
      " [ 6. 33.]\n",
      " [ 8. 60.]\n",
      " [60.  6.]\n",
      " [37. 39.]\n",
      " [18. 15.]\n",
      " [76. 89.]\n",
      " [40. 64.]\n",
      " [84. 84.]\n",
      " [25. 95.]\n",
      " [46. 55.]\n",
      " [24.  2.]\n",
      " [51. 66.]\n",
      " [ 3. 85.]\n",
      " [59. 89.]]\n",
      "Responses Ravel or flattened as 1-D:\n",
      " [2. 1. 0. 0. 0. 2. 2. 2. 2. 1. 2. 2. 2. 2. 0. 0. 2. 0. 2. 0. 0. 2. 1. 0.\n",
      " 0.]\n"
     ]
    }
   ],
   "source": [
    "print (\"Training Data:\\n\", trainData)\n",
    "#print(\"\\n Responses:\\n\", responses)\n",
    "print(\"Responses Ravel or flattened as 1-D:\\n\", responses.ravel()) #Method .ravel flattens the np array to 1-D. \n",
    "#color 0 is \"Red\", color 1 is \"blue\", color 2 is \"yellow\""
   ]
  },
  {
   "cell_type": "code",
   "execution_count": 5,
   "metadata": {},
   "outputs": [
    {
     "name": "stdout",
     "output_type": "stream",
     "text": [
      "[[15. 68.]\n",
      " [45. 47.]\n",
      " [ 6. 63.]\n",
      " [37. 39.]\n",
      " [18. 15.]\n",
      " [40. 64.]\n",
      " [25. 95.]\n",
      " [46. 55.]\n",
      " [ 3. 85.]\n",
      " [59. 89.]]\n",
      "[[74.  7.]\n",
      " [90. 35.]\n",
      " [51. 66.]]\n",
      "[[59. 57.]\n",
      " [65. 21.]\n",
      " [65. 34.]\n",
      " [19. 34.]\n",
      " [73. 18.]\n",
      " [43. 85.]\n",
      " [ 6. 33.]\n",
      " [ 8. 60.]\n",
      " [60.  6.]\n",
      " [76. 89.]\n",
      " [84. 84.]\n",
      " [24.  2.]]\n"
     ]
    }
   ],
   "source": [
    "# Make red, blue, yellow\n",
    "red = trainData[responses.ravel()==0] #red is now trained data with responses of 0\n",
    "print(red)\n",
    "blue = trainData[responses.ravel()==1] #blue is now the trained data with responses of 1 \n",
    "print(blue)\n",
    "yellow = trainData[responses.ravel()==2] #yellow is now the trained data with responses of 2\n",
    "print(yellow)"
   ]
  },
  {
   "cell_type": "code",
   "execution_count": 6,
   "metadata": {},
   "outputs": [
    {
     "data": {
      "image/png": "[encoded data removed]",
      "text/plain": [
       "<Figure size 640x480 with 1 Axes>"
      ]
     },
     "metadata": {},
     "output_type": "display_data"
    },
    {
     "data": {
      "text/plain": [
       "<Figure size 640x480 with 0 Axes>"
      ]
     },
     "metadata": {},
     "output_type": "display_data"
    }
   ],
   "source": [
    "#matplotlib.pyplot.scatter(x, y, s=None, c=None, marker=None, ...)\n",
    "plt.scatter(red[:,0],red[:,1],80,'r','^') #size 80, red, triangle\n",
    "plt.scatter(blue[:,0],blue[:,1],80,'b','s') #size 80, blue, square\n",
    "plt.scatter(yellow[:,0],yellow[:,1],80,'y','o') #size 80, yellow, circle\n",
    "plt.show()\n",
    "#plt.savefig('graph_no_newcomer.png')"
   ]
  },
  {
   "cell_type": "markdown",
   "metadata": {},
   "source": [
    "### Test unknow data"
   ]
  },
  {
   "cell_type": "code",
   "execution_count": 7,
   "metadata": {},
   "outputs": [
    {
     "name": "stdout",
     "output_type": "stream",
     "text": [
      "[[85. 29.]]\n"
     ]
    }
   ],
   "source": [
    "#create 1 * 2 or 1 (x,y) value with random integer 0-99\n",
    "newcomer = np.random.randint(0,100,(1,2)).astype(np.float32)\n",
    "print(newcomer)"
   ]
  },
  {
   "cell_type": "code",
   "execution_count": 8,
   "metadata": {},
   "outputs": [
    {
     "data": {
      "image/png": "[encoded data removed]",
      "text/plain": [
       "<Figure size 640x480 with 1 Axes>"
      ]
     },
     "metadata": {},
     "output_type": "display_data"
    },
    {
     "data": {
      "text/plain": [
       "<Figure size 640x480 with 0 Axes>"
      ]
     },
     "metadata": {},
     "output_type": "display_data"
    }
   ],
   "source": [
    "plt.scatter(red[:,0],red[:,1],80,'r','^') #red, triangle\n",
    "plt.scatter(blue[:,0],blue[:,1],80,'b','s') #blue, square\n",
    "plt.scatter(yellow[:,0],yellow[:,1],80,'y','o') #yellow, circle\n",
    "plt.scatter(newcomer[:,0],newcomer[:,1],80,'g','x') #green, x\n",
    "plt.show()\n",
    "#plt.savefig('graph_newcomer.png', format='png')"
   ]
  },
  {
   "cell_type": "code",
   "execution_count": 9,
   "metadata": {},
   "outputs": [],
   "source": [
    "knn = cv.ml.KNearest_create()\n",
    "knn.train(trainData, cv.ml.ROW_SAMPLE, responses)\n",
    "k=4\n",
    "ret, results, neighbours, dist = knn.findNearest(newcomer, k)"
   ]
  },
  {
   "cell_type": "code",
   "execution_count": 10,
   "metadata": {},
   "outputs": [],
   "source": [
    "results = results.ravel().astype(int)\n",
    "neighbours = neighbours.ravel().astype(int).astype(str)\n",
    "dist = dist.ravel().astype(int)"
   ]
  },
  {
   "cell_type": "code",
   "execution_count": 11,
   "metadata": {},
   "outputs": [],
   "source": [
    "if results[0] == 0:\n",
    "    results = \"Red\"\n",
    "elif results[0] == 1:\n",
    "    results = \"Blue\"\n",
    "elif results[0] == 2:\n",
    "    results = \"Yellow\"\n",
    "\n",
    "for i in range(k):\n",
    "    if neighbours[i] == '0':\n",
    "        neighbours[i] = \"Red\"\n",
    "    elif neighbours[i] == '1':\n",
    "        neighbours[i] = \"Blue\"\n",
    "    elif neighbours[i] == '2':\n",
    "        neighbours[i] = \"Yellow\"\n"
   ]
  },
  {
   "cell_type": "code",
   "execution_count": 12,
   "metadata": {},
   "outputs": [
    {
     "name": "stdout",
     "output_type": "stream",
     "text": [
      "Result:  Yellow\n",
      "Nearest Neighbors:  ['Blue' 'Yellow' 'Yellow' 'Yellow']\n",
      "Distance:  [ 61 265 425 464]\n"
     ]
    }
   ],
   "source": [
    "print(\"Result: \", results)\n",
    "print(\"Nearest Neighbors: \", neighbours)\n",
    "print(\"Distance: \", dist)"
   ]
  }
 ],
 "metadata": {
  "kernelspec": {
   "display_name": "Python 3.9.12 64-bit",
   "language": "python",
   "name": "python3"
  },
  "language_info": {
   "codemirror_mode": {
    "name": "ipython",
    "version": 3
   },
   "file_extension": ".py",
   "mimetype": "text/x-python",
   "name": "python",
   "nbconvert_exporter": "python",
   "pygments_lexer": "ipython3",
   "version": "3.9.12"
  },
  "orig_nbformat": 4,
  "vscode": {
   "interpreter": {
    "hash": "1d5c1156327dacead463cc502c55ebae8ce9c8c01979cf154173ff808e75bf55"
   }
  }
 },
 "nbformat": 4,
 "nbformat_minor": 2
}
