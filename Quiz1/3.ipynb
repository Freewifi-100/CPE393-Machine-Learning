{
 "cells": [
  {
   "cell_type": "code",
   "execution_count": 16,
   "metadata": {},
   "outputs": [],
   "source": [
    "import cv2 as cv\n",
    "import numpy as np\n",
    "import matplotlib.pyplot as plt"
   ]
  },
  {
   "cell_type": "markdown",
   "metadata": {},
   "source": [
    "### Create Trianing"
   ]
  },
  {
   "cell_type": "code",
   "execution_count": 17,
   "metadata": {},
   "outputs": [],
   "source": [
    "# Feature set containing 25 * 2 for 25 (x,y) values of known/training data that are random integers 0-99\n",
    "trainData = np.random.randint(0,100,(25,2)).astype(np.float32)\n",
    "# Label each one either Red or Blue with numbers 0 and 1. Response is a random integers 0-1 of 25 * 1 values\n",
    "responses = np.random.randint(0,3,(25,1)).astype(np.float32) #responses 25 x 1 matrix "
   ]
  },
  {
   "cell_type": "code",
   "execution_count": 18,
   "metadata": {},
   "outputs": [
    {
     "name": "stdout",
     "output_type": "stream",
     "text": [
      "Training Data:\n",
      " [[96. 10.]\n",
      " [27.  1.]\n",
      " [54. 23.]\n",
      " [83. 82.]\n",
      " [73. 54.]\n",
      " [65.  4.]\n",
      " [43. 80.]\n",
      " [87. 38.]\n",
      " [ 8. 23.]\n",
      " [79. 99.]\n",
      " [27.  7.]\n",
      " [73. 83.]\n",
      " [49. 12.]\n",
      " [66. 36.]\n",
      " [48. 29.]\n",
      " [37. 95.]\n",
      " [42. 69.]\n",
      " [28. 75.]\n",
      " [86. 99.]\n",
      " [28. 38.]\n",
      " [66. 21.]\n",
      " [95. 89.]\n",
      " [ 8. 52.]\n",
      " [45. 95.]\n",
      " [69. 87.]]\n",
      "Responses Ravel or flattened as 1-D:\n",
      " [2. 1. 1. 0. 2. 2. 0. 1. 2. 1. 0. 2. 2. 1. 2. 0. 2. 2. 1. 1. 2. 0. 1. 2.\n",
      " 2.]\n"
     ]
    }
   ],
   "source": [
    "print (\"Training Data:\\n\", trainData)\n",
    "#print(\"\\n Responses:\\n\", responses)\n",
    "print(\"Responses Ravel or flattened as 1-D:\\n\", responses.ravel()) #Method .ravel flattens the np array to 1-D. \n",
    "#color 0 is \"Red\", color 1 is \"blue\", color 2 is \"yellow\""
   ]
  },
  {
   "cell_type": "code",
   "execution_count": 19,
   "metadata": {},
   "outputs": [
    {
     "name": "stdout",
     "output_type": "stream",
     "text": [
      "[[83. 82.]\n",
      " [43. 80.]\n",
      " [27.  7.]\n",
      " [37. 95.]\n",
      " [95. 89.]]\n",
      "[[27.  1.]\n",
      " [54. 23.]\n",
      " [87. 38.]\n",
      " [79. 99.]\n",
      " [66. 36.]\n",
      " [86. 99.]\n",
      " [28. 38.]\n",
      " [ 8. 52.]]\n",
      "[[96. 10.]\n",
      " [73. 54.]\n",
      " [65.  4.]\n",
      " [ 8. 23.]\n",
      " [73. 83.]\n",
      " [49. 12.]\n",
      " [48. 29.]\n",
      " [42. 69.]\n",
      " [28. 75.]\n",
      " [66. 21.]\n",
      " [45. 95.]\n",
      " [69. 87.]]\n"
     ]
    }
   ],
   "source": [
    "# Make red, blue, yellow\n",
    "red = trainData[responses.ravel()==0] #red is now trained data with responses of 0\n",
    "print(red)\n",
    "blue = trainData[responses.ravel()==1] #blue is now the trained data with responses of 1 \n",
    "print(blue)\n",
    "yellow = trainData[responses.ravel()==2] #yellow is now the trained data with responses of 2\n",
    "print(yellow)"
   ]
  },
  {
   "cell_type": "code",
   "execution_count": 20,
   "metadata": {},
   "outputs": [
    {
     "data": {
      "image/png": "[encoded data removed]",
      "text/plain": [
       "<Figure size 640x480 with 1 Axes>"
      ]
     },
     "metadata": {},
     "output_type": "display_data"
    }
   ],
   "source": [
    "#matplotlib.pyplot.scatter(x, y, s=None, c=None, marker=None, ...)\n",
    "plt.scatter(red[:,0],red[:,1],80,'r','^') #size 80, red, triangle\n",
    "plt.scatter(blue[:,0],blue[:,1],80,'b','s') #size 80, blue, square\n",
    "plt.scatter(yellow[:,0],yellow[:,1],80,'y','o') #size 80, yellow, circle\n",
    "plt.show()\n",
    "#plt.savefig('graph_no_newcomer.png')"
   ]
  },
  {
   "cell_type": "markdown",
   "metadata": {},
   "source": [
    "### Test unknow data"
   ]
  },
  {
   "cell_type": "code",
   "execution_count": 21,
   "metadata": {},
   "outputs": [
    {
     "name": "stdout",
     "output_type": "stream",
     "text": [
      "[[42. 18.]]\n"
     ]
    }
   ],
   "source": [
    "#create 1 * 2 or 1 (x,y) value with random integer 0-99\n",
    "newcomer = np.random.randint(0,100,(1,2)).astype(np.float32)\n",
    "print(newcomer)"
   ]
  },
  {
   "cell_type": "code",
   "execution_count": 22,
   "metadata": {},
   "outputs": [
    {
     "data": {
      "image/png": "[encoded data removed]",
      "text/plain": [
       "<Figure size 640x480 with 1 Axes>"
      ]
     },
     "metadata": {},
     "output_type": "display_data"
    }
   ],
   "source": [
    "plt.scatter(red[:,0],red[:,1],80,'r','^') #red, triangle\n",
    "plt.scatter(blue[:,0],blue[:,1],80,'b','s') #blue, square\n",
    "plt.scatter(yellow[:,0],yellow[:,1],80,'y','o') #yellow, circle\n",
    "plt.scatter(newcomer[:,0],newcomer[:,1],80,'g','x') #green, x\n",
    "plt.show()\n",
    "#plt.savefig('graph_newcomer.png', format='png')"
   ]
  },
  {
   "cell_type": "code",
   "execution_count": 23,
   "metadata": {},
   "outputs": [],
   "source": [
    "knn = cv.ml.KNearest_create()\n",
    "knn.train(trainData, cv.ml.ROW_SAMPLE, responses)\n",
    "k=4\n",
    "ret, results, neighbours, dist = knn.findNearest(newcomer, k)"
   ]
  },
  {
   "cell_type": "code",
   "execution_count": 24,
   "metadata": {},
   "outputs": [],
   "source": [
    "results = results.ravel().astype(int)\n",
    "neighbours = neighbours.ravel().astype(int).astype(str)\n",
    "dist = dist.ravel().astype(int)"
   ]
  },
  {
   "cell_type": "code",
   "execution_count": 25,
   "metadata": {},
   "outputs": [],
   "source": [
    "if results[0] == 0:\n",
    "    results = \"Red\"\n",
    "elif results[0] == 1:\n",
    "    results = \"Blue\"\n",
    "elif results[0] == 2:\n",
    "    results = \"Yellow\"\n",
    "\n",
    "for i in range(k):\n",
    "    if neighbours[i] == '0':\n",
    "        neighbours[i] = \"Red\"\n",
    "    elif neighbours[i] == '1':\n",
    "        neighbours[i] = \"Blue\"\n",
    "    elif neighbours[i] == '2':\n",
    "        neighbours[i] = \"Yellow\"\n"
   ]
  },
  {
   "cell_type": "code",
   "execution_count": 26,
   "metadata": {},
   "outputs": [
    {
     "name": "stdout",
     "output_type": "stream",
     "text": [
      "Result:  Yellow\n",
      "Nearest Neighbors:  ['Yellow' 'Yellow' 'Blue' 'Red']\n",
      "Distance:  [ 85 157 169 346]\n"
     ]
    }
   ],
   "source": [
    "print(\"Result: \", results)\n",
    "print(\"Nearest Neighbors: \", neighbours)\n",
    "print(\"Distance: \", dist)"
   ]
  }
 ],
 "metadata": {
  "kernelspec": {
   "display_name": "Python 3.9.12 64-bit",
   "language": "python",
   "name": "python3"
  },
  "language_info": {
   "codemirror_mode": {
    "name": "ipython",
    "version": 3
   },
   "file_extension": ".py",
   "mimetype": "text/x-python",
   "name": "python",
   "nbconvert_exporter": "python",
   "pygments_lexer": "ipython3",
   "version": "3.9.12 (tags/v3.9.12:b28265d, Mar 23 2022, 23:52:46) [MSC v.1929 64 bit (AMD64)]"
  },
  "orig_nbformat": 4,
  "vscode": {
   "interpreter": {
    "hash": "1d5c1156327dacead463cc502c55ebae8ce9c8c01979cf154173ff808e75bf55"
   }
  }
 },
 "nbformat": 4,
 "nbformat_minor": 2
}
