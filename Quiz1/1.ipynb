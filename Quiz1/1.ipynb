{
 "cells": [
  {
   "cell_type": "code",
   "execution_count": 1,
   "metadata": {},
   "outputs": [],
   "source": [
    "import numpy as np\n",
    "import cv2"
   ]
  },
  {
   "cell_type": "code",
   "execution_count": 2,
   "metadata": {},
   "outputs": [],
   "source": [
    "def myImshow(title, img):\n",
    "    cv2.startWindowThread()\n",
    "    cv2.imshow(title, img)\n",
    "    cv2.waitKey(0)\n",
    "    cv2.destroyAllWindows()"
   ]
  },
  {
   "cell_type": "code",
   "execution_count": 3,
   "metadata": {},
   "outputs": [],
   "source": [
    "#Print error massage if image is null\n",
    "def checkImage(img):\n",
    "    if img is None:\n",
    "        print('Image load failed!')\n",
    "    else:\n",
    "        print('Image load succeeded!')"
   ]
  },
  {
   "cell_type": "code",
   "execution_count": 4,
   "metadata": {},
   "outputs": [
    {
     "name": "stdout",
     "output_type": "stream",
     "text": [
      "Image load succeeded!\n"
     ]
    }
   ],
   "source": [
    "#RBG image in BGR order in OpenCV\n",
    "img1 = cv2.imread('./image/t_character.png', 0)\n",
    "checkImage(img1)"
   ]
  },
  {
   "cell_type": "code",
   "execution_count": 5,
   "metadata": {},
   "outputs": [],
   "source": [
    "#myImshow('image1', img1)"
   ]
  },
  {
   "cell_type": "code",
   "execution_count": 6,
   "metadata": {},
   "outputs": [
    {
     "name": "stdout",
     "output_type": "stream",
     "text": [
      "Image load succeeded!\n"
     ]
    }
   ],
   "source": [
    "img2 = cv2.imread('./image/text_image.png', 0)\n",
    "checkImage(img2)"
   ]
  },
  {
   "cell_type": "code",
   "execution_count": 7,
   "metadata": {},
   "outputs": [],
   "source": [
    "#myImshow('image2', img2)"
   ]
  },
  {
   "cell_type": "code",
   "execution_count": 8,
   "metadata": {},
   "outputs": [],
   "source": [
    "# Get the shape of the img1 and text img2\n",
    "h_img1, w_img1 = img1.shape\n",
    "h_img2, w_img2 = img2.shape"
   ]
  },
  {
   "cell_type": "code",
   "execution_count": 9,
   "metadata": {},
   "outputs": [],
   "source": [
    "# euclidean distance\n",
    "def euclidean_distance(x1, x2):\n",
    "    return np.sqrt(np.sum((x1-x2)**2))"
   ]
  },
  {
   "cell_type": "code",
   "execution_count": 10,
   "metadata": {},
   "outputs": [],
   "source": [
    "# Slide the img1 over the img2\n",
    "matches = []\n",
    "for y in range(h_img2 - h_img1):\n",
    "    for x in range(w_img2 - w_img1):\n",
    "        # Get the img2 patch\n",
    "        img2_patch = img2[y:y+h_img1, x:x+w_img1]\n",
    "        # Calculate the distance between img1 and img2_patch\n",
    "        dist = euclidean_distance(img1,img2_patch)\n",
    "        # Update the distance and match location\n",
    "        if dist == 0:\n",
    "            matches.append((x, y))\n"
   ]
  },
  {
   "cell_type": "code",
   "execution_count": 11,
   "metadata": {},
   "outputs": [],
   "source": [
    "for match in matches:\n",
    "    x, y = match\n",
    "    img_bounding = cv2.rectangle(img2, (x, y), (x+w_img1, y+h_img1), (0, 0, 255), 1)\n",
    "# Show the result\n",
    "myImshow('result', img_bounding)"
   ]
  },
  {
   "cell_type": "code",
   "execution_count": 12,
   "metadata": {},
   "outputs": [
    {
     "data": {
      "text/plain": [
       "True"
      ]
     },
     "execution_count": 12,
     "metadata": {},
     "output_type": "execute_result"
    }
   ],
   "source": [
    "# Save the image with the bounding box\n",
    "cv2.imwrite(\"text_bounding_box.png\", img_bounding)"
   ]
  }
 ],
 "metadata": {
  "kernelspec": {
   "display_name": "Python 3.9.12 64-bit",
   "language": "python",
   "name": "python3"
  },
  "language_info": {
   "codemirror_mode": {
    "name": "ipython",
    "version": 3
   },
   "file_extension": ".py",
   "mimetype": "text/x-python",
   "name": "python",
   "nbconvert_exporter": "python",
   "pygments_lexer": "ipython3",
   "version": "3.9.12"
  },
  "orig_nbformat": 4,
  "vscode": {
   "interpreter": {
    "hash": "1d5c1156327dacead463cc502c55ebae8ce9c8c01979cf154173ff808e75bf55"
   }
  }
 },
 "nbformat": 4,
 "nbformat_minor": 2
}
