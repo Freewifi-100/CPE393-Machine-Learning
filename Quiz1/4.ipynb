{
 "cells": [
  {
   "cell_type": "code",
   "execution_count": 95,
   "metadata": {},
   "outputs": [],
   "source": [
    "import numpy as np\n",
    "import pandas as pd\n",
    "import cv2 as cv2"
   ]
  },
  {
   "cell_type": "code",
   "execution_count": 96,
   "metadata": {},
   "outputs": [],
   "source": [
    "def myImshow(title, img):\n",
    "    cv2.startWindowThread()\n",
    "    cv2.imshow(title, img)\n",
    "    cv2.waitKey(0)\n",
    "    cv2.destroyAllWindows()"
   ]
  },
  {
   "cell_type": "code",
   "execution_count": 97,
   "metadata": {},
   "outputs": [],
   "source": [
    "#Print error massage if image is null\n",
    "def checkImage(img):\n",
    "    if img is None:\n",
    "        print('Image load failed!')\n",
    "    else:\n",
    "        print('Image load succeeded!')"
   ]
  },
  {
   "cell_type": "code",
   "execution_count": 98,
   "metadata": {},
   "outputs": [],
   "source": [
    "#resize image ratio\n",
    "def resizeImage(img, ratio):\n",
    "    height, width = img.shape[:2]\n",
    "    img = cv2.resize(img, (int(width * ratio), int(height * ratio)))\n",
    "    return img"
   ]
  },
  {
   "cell_type": "code",
   "execution_count": 99,
   "metadata": {},
   "outputs": [
    {
     "name": "stdout",
     "output_type": "stream",
     "text": [
      "Image load succeeded!\n"
     ]
    }
   ],
   "source": [
    "#RBG image in BGR order in OpenCV\n",
    "img1 = cv2.imread('./image/a_book.jpg', cv2.IMREAD_GRAYSCALE)\n",
    "img1 = resizeImage(img1, 0.25)\n",
    "checkImage(img1)"
   ]
  },
  {
   "cell_type": "code",
   "execution_count": 100,
   "metadata": {},
   "outputs": [],
   "source": [
    "myImshow('A book', img1)"
   ]
  },
  {
   "cell_type": "code",
   "execution_count": 101,
   "metadata": {},
   "outputs": [
    {
     "name": "stdout",
     "output_type": "stream",
     "text": [
      "Image load succeeded!\n"
     ]
    }
   ],
   "source": [
    "img2 = cv2.imread('./image/books.jpg', cv2.IMREAD_GRAYSCALE)\n",
    "img2 = resizeImage(img2, 0.25)\n",
    "checkImage(img2)"
   ]
  },
  {
   "cell_type": "code",
   "execution_count": 102,
   "metadata": {},
   "outputs": [],
   "source": [
    "myImshow('books', img2)"
   ]
  },
  {
   "cell_type": "code",
   "execution_count": 103,
   "metadata": {},
   "outputs": [],
   "source": [
    "#Initialize SIFT detector\n",
    "sift = cv2.SIFT.create()"
   ]
  },
  {
   "cell_type": "code",
   "execution_count": 104,
   "metadata": {},
   "outputs": [],
   "source": [
    "# Detect keypoints and compute descriptors for the first image\n",
    "keypoints1, descriptors1 = sift.detectAndCompute(img1, None)\n",
    "\n",
    "# Detect keypoints and compute descriptors for the second image\n",
    "keypoints2, descriptors2 = sift.detectAndCompute(img2, None)"
   ]
  },
  {
   "cell_type": "code",
   "execution_count": 105,
   "metadata": {},
   "outputs": [],
   "source": [
    "# KNN Match\n",
    "matcher = cv2.BFMatcher()\n",
    "matches = matcher.knnMatch(descriptors1, descriptors2, 2)"
   ]
  },
  {
   "cell_type": "code",
   "execution_count": 106,
   "metadata": {},
   "outputs": [],
   "source": [
    "# Filter matching\n",
    "good_matches = []\n",
    "for m, n in matches:\n",
    "    if m.distance < 0.7 * n.distance:\n",
    "        good_matches.append(m)\n",
    "    else:\n",
    "        pass"
   ]
  },
  {
   "cell_type": "code",
   "execution_count": 107,
   "metadata": {},
   "outputs": [
    {
     "data": {
      "text/plain": [
       "True"
      ]
     },
     "execution_count": 107,
     "metadata": {},
     "output_type": "execute_result"
    }
   ],
   "source": [
    "# Draw matches\n",
    "img_matches = cv2.drawMatches(img1, keypoints1, img2, keypoints2, good_matches, None, flags=cv2.DrawMatchesFlags_NOT_DRAW_SINGLE_POINTS)\n",
    "\n",
    "myImshow('Matches', img_matches)\n",
    "cv2.imwrite('find_book.png',img_matches)"
   ]
  }
 ],
 "metadata": {
  "kernelspec": {
   "display_name": "Python 3.9.12 64-bit",
   "language": "python",
   "name": "python3"
  },
  "language_info": {
   "codemirror_mode": {
    "name": "ipython",
    "version": 3
   },
   "file_extension": ".py",
   "mimetype": "text/x-python",
   "name": "python",
   "nbconvert_exporter": "python",
   "pygments_lexer": "ipython3",
   "version": "3.9.12"
  },
  "orig_nbformat": 4,
  "vscode": {
   "interpreter": {
    "hash": "1d5c1156327dacead463cc502c55ebae8ce9c8c01979cf154173ff808e75bf55"
   }
  }
 },
 "nbformat": 4,
 "nbformat_minor": 2
}
